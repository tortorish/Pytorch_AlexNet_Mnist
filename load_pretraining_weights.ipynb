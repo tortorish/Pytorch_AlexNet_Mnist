{
 "cells": [
  {
   "cell_type": "code",
   "execution_count": 18,
   "id": "225cc17e",
   "metadata": {},
   "outputs": [],
   "source": [
    "import torch\n",
    "from torch import nn\n",
    "from torchvision import datasets\n",
    "from torchvision import transforms\n",
    "from torch.utils import data"
   ]
  },
  {
   "cell_type": "code",
   "execution_count": 19,
   "id": "0957ec89",
   "metadata": {},
   "outputs": [],
   "source": [
    "class AlexNet(nn.Module):\n",
    "    def __init__(self):\n",
    "        super(AlexNet, self).__init__()\n",
    "        self.conv1 = nn.Conv2d(1, 96, kernel_size=(11, 11), stride=4, padding=2)\n",
    "        self.maxpool1 = nn.MaxPool2d(kernel_size=(3, 3), stride=2)\n",
    "        self.conv2 = nn.Conv2d(96, 256, kernel_size=(5, 5), stride=1, padding=2)\n",
    "        self.maxpool2 = nn.MaxPool2d(kernel_size=(3, 3), stride=2)\n",
    "        self.conv3 = nn.Conv2d(256, 384, kernel_size=(3, 3), padding=1)\n",
    "        self.conv4 = nn.Conv2d(384, 384, kernel_size=(3, 3), padding=1)\n",
    "        self.conv5 = nn.Conv2d(384, 256, kernel_size=(3, 3), padding=1)\n",
    "        self.maxpool3 = nn.MaxPool2d(kernel_size=(3, 3), stride=2)\n",
    "        self.flatten = nn.Flatten()\n",
    "        self.linear1 = nn.Linear(9216, 4096)\n",
    "        self.dropout1 = nn.Dropout(0.5)\n",
    "        self.linear2 = nn.Linear(4096, 4096)\n",
    "        self.dropout2 = nn.Dropout(0.5)\n",
    "        self.linear3 = nn.Linear(4096, 10)\n",
    "        \n",
    "    def forward(self, x):\n",
    "        out_conv1 = F.relu(self.conv1(x))\n",
    "        out_pool1 = self.maxpool1(out_conv1)\n",
    "        out_conv2 = F.relu(self.conv2(out_pool1))\n",
    "        out_pool2 = self.maxpool2(out_conv2)\n",
    "        out_conv3 = F.relu(self.conv3(out_pool2))\n",
    "        out_conv4 = F.relu(self.conv4(out_conv3))\n",
    "        out_conv5 = F.relu(self.conv5(out_conv4))\n",
    "        out_pool3 = self.maxpool3(out_conv5)\n",
    "        \n",
    "        flatten_x = self.flatten(out_pool3)\n",
    "        out_linear1 = F.relu(self.linear1(flatten_x))\n",
    "        out_dropout1 = self.dropout1(out_linear1)\n",
    "        out_linear2 = F.relu(self.linear2(out_dropout1))\n",
    "        out_dropout2 = F.relu(out_linear2)\n",
    "        out_linear3 = F.relu(self.linear3(out_dropout2))\n",
    "        return out_linear3"
   ]
  },
  {
   "cell_type": "code",
   "execution_count": 20,
   "id": "357fe6b8",
   "metadata": {},
   "outputs": [
    {
     "data": {
      "text/plain": [
       "AlexNet(\n",
       "  (conv1): Conv2d(1, 96, kernel_size=(11, 11), stride=(4, 4), padding=(2, 2))\n",
       "  (maxpool1): MaxPool2d(kernel_size=(3, 3), stride=2, padding=0, dilation=1, ceil_mode=False)\n",
       "  (conv2): Conv2d(96, 256, kernel_size=(5, 5), stride=(1, 1), padding=(2, 2))\n",
       "  (maxpool2): MaxPool2d(kernel_size=(3, 3), stride=2, padding=0, dilation=1, ceil_mode=False)\n",
       "  (conv3): Conv2d(256, 384, kernel_size=(3, 3), stride=(1, 1), padding=(1, 1))\n",
       "  (conv4): Conv2d(384, 384, kernel_size=(3, 3), stride=(1, 1), padding=(1, 1))\n",
       "  (conv5): Conv2d(384, 256, kernel_size=(3, 3), stride=(1, 1), padding=(1, 1))\n",
       "  (maxpool3): MaxPool2d(kernel_size=(3, 3), stride=2, padding=0, dilation=1, ceil_mode=False)\n",
       "  (flatten): Flatten(start_dim=1, end_dim=-1)\n",
       "  (linear1): Linear(in_features=9216, out_features=4096, bias=True)\n",
       "  (dropout1): Dropout(p=0.5, inplace=False)\n",
       "  (linear2): Linear(in_features=4096, out_features=4096, bias=True)\n",
       "  (dropout2): Dropout(p=0.5, inplace=False)\n",
       "  (linear3): Linear(in_features=4096, out_features=10, bias=True)\n",
       ")"
      ]
     },
     "execution_count": 20,
     "metadata": {},
     "output_type": "execute_result"
    }
   ],
   "source": [
    "model = AlexNet()\n",
    "model.load_state_dict(torch.load('MnistOnAlexNet_epoch30.pkl'))\n",
    "device = 'cuda' if torch.cuda.is_available() else 'cpu'\n",
    "model.to(device)"
   ]
  }
 ],
 "metadata": {
  "kernelspec": {
   "display_name": "Python [conda env:pytorch]",
   "language": "python",
   "name": "conda-env-pytorch-py"
  },
  "language_info": {
   "codemirror_mode": {
    "name": "ipython",
    "version": 3
   },
   "file_extension": ".py",
   "mimetype": "text/x-python",
   "name": "python",
   "nbconvert_exporter": "python",
   "pygments_lexer": "ipython3",
   "version": "3.9.7"
  },
  "toc": {
   "base_numbering": 1,
   "nav_menu": {},
   "number_sections": true,
   "sideBar": true,
   "skip_h1_title": false,
   "title_cell": "Table of Contents",
   "title_sidebar": "Contents",
   "toc_cell": false,
   "toc_position": {},
   "toc_section_display": true,
   "toc_window_display": false
  }
 },
 "nbformat": 4,
 "nbformat_minor": 5
}
